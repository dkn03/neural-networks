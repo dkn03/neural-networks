{
 "cells": [
  {
   "cell_type": "code",
   "execution_count": 3,
   "metadata": {},
   "outputs": [],
   "source": [
    "import torch\n",
    "import glob\n",
    "from torcheval.metrics.functional import multiclass_accuracy\n",
    "from numpy import genfromtxt\n",
    "from torch.nn import RNN, LSTM, GRU\n",
    "from torch.utils.data import DataLoader\n",
    "\n",
    "\n",
    "from model import *\n",
    "from dataset import MyDataset\n",
    "from utils import read_data"
   ]
  },
  {
   "cell_type": "code",
   "execution_count": 4,
   "metadata": {},
   "outputs": [],
   "source": [
    "device = (torch.device('cuda') if torch.cuda.is_available() else torch.device('cpu'))"
   ]
  },
  {
   "cell_type": "code",
   "execution_count": 5,
   "metadata": {},
   "outputs": [],
   "source": [
    "test_path = \"../nn4_data/UCI HAR Dataset/test/Inertial Signals/\"\n",
    "test_x_data = read_data(test_path).to(device=device)\n",
    "test_y_path = \"../nn4_data/UCI HAR Dataset/test/y_test.txt\"\n",
    "test_y_data = (torch.tensor(genfromtxt(test_y_path)) - 1).to(device=device)\n",
    "\n",
    "\n",
    "test_dataset = MyDataset(test_x_data, test_y_data)\n",
    "test_dataloader = DataLoader(test_dataset, batch_size=len(test_dataset))"
   ]
  },
  {
   "cell_type": "code",
   "execution_count": 57,
   "metadata": {},
   "outputs": [
    {
     "name": "stdout",
     "output_type": "stream",
     "text": [
      "0.5945028842891076\n",
      "('Walking', 'Standing') 8\n",
      "('Standing', 'Sitting') 154\n",
      "('Walking downstairs', 'Walking') 162\n",
      "('Standing', 'Walking') 91\n",
      "('Walking upstairs', 'Walking') 39\n",
      "('Standing', 'Walking downstairs') 62\n",
      "('Walking', 'Walking downstairs') 140\n",
      "('Walking upstairs', 'Walking downstairs') 26\n",
      "('Standing', 'Walking upstairs') 95\n",
      "('Walking', 'Walking upstairs') 139\n",
      "('Walking downstairs', 'Walking upstairs') 138\n",
      "('Walking downstairs', 'Standing') 7\n",
      "('Sitting', 'Standing') 60\n",
      "('Sitting', 'Walking') 34\n",
      "('Sitting', 'Walking downstairs') 16\n",
      "('Walking', 'Sitting') 3\n",
      "('Sitting', 'Walking upstairs') 20\n",
      "('Walking upstairs', 'Standing') 1\n"
     ]
    }
   ],
   "source": [
    "input_size = 9\n",
    "num_layers = 1\n",
    "hidden_size = 6\n",
    "\n",
    "indexed_action = {0: \"Walking\", 1: \"Walking upstairs\", 2: \"Walking downstairs\", 3: \"Sitting\", 4: \"Standing\", 5: \"Laying\"}\n",
    "\n",
    "model = GRURNN(input_size, num_layers, hidden_size)\n",
    "model.load_state_dict(torch.load(f\"GRU RNN.pt\"))\n",
    "model = model.to(device=device)\n",
    "counter = 0\n",
    "pairs = {}\n",
    "for i in range(len(test_dataset)):\n",
    "    hidden = model.init_hidden().to(device=device)\n",
    "    predicted = model(test_dataset[i][0].unsqueeze(0), hidden)[0].squeeze().argmax()\n",
    "    if predicted != test_dataset[i][1]:\n",
    "        if (indexed_action[int(predicted)], indexed_action[int(test_dataset[i][1])]) in pairs:\n",
    "            pairs[(indexed_action[int(predicted)], indexed_action[int(test_dataset[i][1])])] += 1\n",
    "        else:\n",
    "            pairs[(indexed_action[int(predicted)], indexed_action[int(test_dataset[i][1])])] = 1\n",
    "    else:\n",
    "        counter += 1\n",
    "print(counter/len(test_dataset))\n",
    "\n",
    "for item, count in pairs.items():\n",
    "    print(item, count)"
   ]
  },
  {
   "cell_type": "code",
   "execution_count": 53,
   "metadata": {},
   "outputs": [
    {
     "name": "stdout",
     "output_type": "stream",
     "text": [
      "('Walking', 'Sitting') 1\n",
      "('Walking upstairs', 'Standing') 6\n",
      "('Walking', 'Standing') 9\n",
      "('Walking downstairs', 'Walking upstairs') 16\n",
      "('Walking downstairs', 'Walking') 20\n",
      "('Walking upstairs', 'Laying') 27\n",
      "('Sitting', 'Walking upstairs') 33\n",
      "('Sitting', 'Walking downstairs') 62\n",
      "('Sitting', 'Walking') 69\n",
      "('Walking upstairs', 'Walking downstairs') 73\n",
      "('Sitting', 'Standing') 90\n",
      "('Walking upstairs', 'Walking') 92\n",
      "('Standing', 'Walking upstairs') 97\n",
      "('Standing', 'Walking downstairs') 98\n",
      "('Standing', 'Sitting') 126\n",
      "('Standing', 'Walking') 128\n",
      "('Walking', 'Walking downstairs') 145\n",
      "('Walking', 'Walking upstairs') 154\n"
     ]
    }
   ],
   "source": [
    "for item in sorted(pairs, key=lambda x: pairs[x]):\n",
    "    print(item, pairs[item])"
   ]
  },
  {
   "cell_type": "code",
   "execution_count": 49,
   "metadata": {},
   "outputs": [
    {
     "name": "stdout",
     "output_type": "stream",
     "text": [
      "Walking Sitting\n",
      "Walking upstairs Standing\n",
      "Walking Standing\n",
      "Walking downstairs Walking upstairs\n",
      "Walking downstairs Walking\n",
      "Walking upstairs Laying\n",
      "Sitting Walking upstairs\n",
      "Sitting Walking downstairs\n",
      "Sitting Walking\n",
      "Walking upstairs Walking downstairs\n",
      "Sitting Standing\n",
      "Walking upstairs Walking\n",
      "Standing Walking upstairs\n",
      "Standing Walking downstairs\n",
      "Standing Sitting\n",
      "Standing Walking\n",
      "Walking Walking downstairs\n",
      "Walking Walking upstairs\n"
     ]
    }
   ],
   "source": [
    "for item, count in pairs:\n",
    "    print(item, count)"
   ]
  },
  {
   "cell_type": "code",
   "execution_count": 56,
   "metadata": {},
   "outputs": [
    {
     "name": "stdout",
     "output_type": "stream",
     "text": [
      "classic RNN\n",
      "tensor(0.5022, device='cuda:0')\n",
      "bidirectional RNN\n",
      "tensor(0.5131, device='cuda:0')\n",
      "LSTM RNN\n",
      "tensor(0.5565, device='cuda:0')\n",
      "GRU RNN\n",
      "tensor(0.5707, device='cuda:0')\n"
     ]
    }
   ],
   "source": [
    "input_size = 9\n",
    "num_layers = 1\n",
    "hidden_size = 6\n",
    "\n",
    "\n",
    "rnn_models = {\"classic RNN\": SimpleRNN(input_size, num_layers, hidden_size),\n",
    "              \"bidirectional RNN\": BidirectionalRNN(input_size, num_layers, hidden_size),\n",
    "              \"LSTM RNN\": LSTMRNN(input_size, num_layers, hidden_size),\n",
    "              \"GRU RNN\": GRURNN(input_size, num_layers, hidden_size),\n",
    "              }\n",
    "\n",
    "for name, model in rnn_models.items():\n",
    "    print(name)\n",
    "    model.load_state_dict(torch.load(f\"{name}.pt\"))\n",
    "    model = model.to(device=device)\n",
    "    for item, label in test_dataloader:\n",
    "        hidden = model.init_hidden().to(device=device)\n",
    "        predicted = model(item, hidden)[0].argmax(1)\n",
    "        print(multiclass_accuracy(predicted, label))"
   ]
  },
  {
   "cell_type": "code",
   "execution_count": null,
   "metadata": {},
   "outputs": [],
   "source": [
    "# nlayers = 4\n",
    "#tensor(0.6373, device='cuda:0')\n",
    "#tensor(0.7723, device='cuda:0')\n",
    "#tensor(0.4605, device='cuda:0')\n",
    "#tensor(0.5972, device='cuda:0')"
   ]
  }
 ],
 "metadata": {
  "kernelspec": {
   "display_name": "Python 3",
   "language": "python",
   "name": "python3"
  },
  "language_info": {
   "codemirror_mode": {
    "name": "ipython",
    "version": 3
   },
   "file_extension": ".py",
   "mimetype": "text/x-python",
   "name": "python",
   "nbconvert_exporter": "python",
   "pygments_lexer": "ipython3",
   "version": "3.11.3"
  }
 },
 "nbformat": 4,
 "nbformat_minor": 2
}
