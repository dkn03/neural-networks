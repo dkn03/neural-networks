{
 "cells": [
  {
   "cell_type": "code",
   "execution_count": 5,
   "id": "initial_id",
   "metadata": {
    "ExecuteTime": {
     "end_time": "2024-03-21T15:29:57.301129700Z",
     "start_time": "2024-03-21T15:29:57.168116400Z"
    }
   },
   "outputs": [],
   "source": [
    "import os\n",
    "\n",
    "#import matplotlib.pyplot as plt\n",
    "import torch\n",
    "import datetime\n",
    "\n",
    "from torchvision.io import read_image\n",
    "from torchvision.transforms import Resize, PILToTensor\n",
    "from torch.utils.data import random_split, DataLoader, Dataset\n",
    "from PIL import Image, ImageOps\n",
    "from torch import nn\n",
    "\n",
    "from dataset import LesionDataset\n",
    "from MyUnetModel import MyUnetModel\n",
    "\n"
   ]
  },
  {
   "cell_type": "code",
   "execution_count": 6,
   "id": "c327296cac02c956",
   "metadata": {
    "ExecuteTime": {
     "end_time": "2024-03-21T15:29:57.390132500Z",
     "start_time": "2024-03-21T15:29:57.178109100Z"
    }
   },
   "outputs": [],
   "source": [
    "device = (torch.device('cuda') if torch.cuda.is_available() else torch.device('cpu'))"
   ]
  },
  {
   "cell_type": "code",
   "execution_count": 7,
   "id": "99d37dfff2db5049",
   "metadata": {
    "ExecuteTime": {
     "end_time": "2024-03-21T15:29:57.390132500Z",
     "start_time": "2024-03-21T15:29:57.202442200Z"
    }
   },
   "outputs": [],
   "source": [
    "def training_loop(n_epochs, optimizer, model, loss_fn, train_loader, validation_loader):\n",
    "    prev_validation_loss = None\n",
    "    for epoch in range(1, n_epochs + 1):\n",
    "        loss_train = 0.0\n",
    "        for imgs, labels in train_loader:\n",
    "            outputs = model(imgs.to(device=device))\n",
    "            labels = labels.to(device=device)\n",
    "            loss = loss_fn(outputs, labels)\n",
    "            optimizer.zero_grad()\n",
    "            loss.backward()\n",
    "            optimizer.step()\n",
    "            loss_train += loss.item()\n",
    "            \n",
    "        #Функция потерь на валидационных данных\n",
    "        summary_loss = 0\n",
    "        for img, label in validation_loader:\n",
    "            img = img.to(device=device)\n",
    "            label = label.to(device=device)\n",
    "            out = model(img)\n",
    "            summary_loss += loss_fn(out, label)\n",
    "\n",
    "        validation_loss = summary_loss/len(validation_loader)\n",
    "    \n",
    "        if epoch == 1 or epoch % 5 == 0:\n",
    "        \n",
    "            print('{} Epoch {}, Training loss {}, Validation loss {}'.format(\n",
    "            datetime.datetime.now(),\n",
    "            epoch,\n",
    "            loss_train / len(train_loader),\n",
    "            validation_loss)\n",
    "            )\n",
    "            if prev_validation_loss is not None and prev_validation_loss <= validation_loss:\n",
    "                print(f\"Early stop on epoch {epoch}\")\n",
    "                break\n",
    "            else:\n",
    "                prev_validation_loss = validation_loss"
   ]
  },
  {
   "cell_type": "code",
   "execution_count": 8,
   "id": "76afcb33",
   "metadata": {
    "ExecuteTime": {
     "end_time": "2024-03-21T15:29:57.391138800Z",
     "start_time": "2024-03-21T15:29:57.210434800Z"
    }
   },
   "outputs": [],
   "source": [
    "class LesionDataset(Dataset):\n",
    "\n",
    "    def __init__(self, data):\n",
    "        self.data = data\n",
    "\n",
    "    def __getitem__(self, index):\n",
    "        image = self.data[index][0].to(device=device)\n",
    "        mask = self.data[index][1].to(device=device)\n",
    "        return image, mask\n",
    "\n",
    "    def __len__(self):\n",
    "        return len(self.data)"
   ]
  },
  {
   "cell_type": "code",
   "execution_count": 9,
   "id": "e7cacf44",
   "metadata": {
    "ExecuteTime": {
     "end_time": "2024-03-21T15:29:57.392140800Z",
     "start_time": "2024-03-21T15:29:57.220881900Z"
    }
   },
   "outputs": [],
   "source": [
    "def get_images_from_path(path):\n",
    "    data = []\n",
    "    for item in os.listdir(path):\n",
    "        image = Image.open(path + \"/\" + item + \"/\" + item + \"_Dermoscopic_Image/\" + item + '.bmp')\n",
    "        image = image.resize((256, 256))\n",
    "        image = PILToTensor()(image)\n",
    "        image = image.to(device=device, dtype=torch.float32)\n",
    "\n",
    "        mask = Image.open(path + \"/\" + item + \"/\" + item + \"_lesion/\" + item + '_lesion.bmp')\n",
    "        mask = mask.resize((256, 256))\n",
    "        mask = PILToTensor()(mask).squeeze()\n",
    "        mask = mask.to(dtype=torch.int64, device=device)\n",
    "        data.append((image, mask))\n",
    "    return data"
   ]
  },
  {
   "cell_type": "code",
   "execution_count": 10,
   "id": "68b08697",
   "metadata": {
    "ExecuteTime": {
     "end_time": "2024-03-21T15:30:00.404777700Z",
     "start_time": "2024-03-21T15:29:57.234136500Z"
    }
   },
   "outputs": [],
   "source": [
    "train_path = \"../nn3_data/PH2 Dataset images/train\"\n",
    "validation_path = \"../nn3_data/PH2 Dataset images/train\"\n",
    "train_dataset = LesionDataset(get_images_from_path(train_path))\n",
    "validation_dataset = LesionDataset(get_images_from_path(validation_path))\n",
    "train_dataloader, validation_dataloader = DataLoader(train_dataset, batch_size=4), DataLoader(validation_dataset, batch_size=4)"
   ]
  },
  {
   "cell_type": "code",
   "execution_count": 10,
   "id": "4de725628154aa15",
   "metadata": {
    "ExecuteTime": {
     "end_time": "2024-03-21T15:30:00.423469700Z",
     "start_time": "2024-03-21T15:30:00.407419100Z"
    }
   },
   "outputs": [],
   "source": [
    "\n"
   ]
  },
  {
   "cell_type": "code",
   "execution_count": 11,
   "id": "0cdda8e4",
   "metadata": {
    "ExecuteTime": {
     "end_time": "2024-03-21T15:30:00.424475300Z",
     "start_time": "2024-03-21T15:30:00.412427700Z"
    }
   },
   "outputs": [],
   "source": [
    "#torch.backends.cudnn.benchmark = False\n",
    "#torch.backends.cudnn.deterministic = True\n",
    "#torch.use_deterministic_algorithms(True)\n"
   ]
  },
  {
   "cell_type": "code",
   "execution_count": null,
   "id": "4038c75a188d2247",
   "metadata": {
    "is_executing": true,
    "ExecuteTime": {
     "start_time": "2024-03-21T15:30:00.420488800Z"
    }
   },
   "outputs": [
    {
     "name": "stdout",
     "output_type": "stream",
     "text": [
      "2024-03-21 22:32:27.273000 Epoch 1, Training loss 0.67576754755444, Validation loss 0.675674557685852\n"
     ]
    }
   ],
   "source": [
    "model = MyUnetModel().to(device=device)\n",
    "optimizer = torch.optim.SGD(model.parameters(), lr=1e-4)\n",
    "loss_fn = nn.CrossEntropyLoss()\n",
    "model.train()\n",
    "training_loop(n_epochs=200, optimizer=optimizer, model=model, loss_fn=loss_fn, \n",
    "              train_loader=train_dataloader, validation_loader=validation_dataloader)\n",
    "\n",
    "torch.save(model.state_dict(), \"my_unet_model.pt\")"
   ]
  },
  {
   "cell_type": "code",
   "execution_count": null,
   "id": "6581cddb",
   "metadata": {
    "is_executing": true
   },
   "outputs": [],
   "source": [
    "model.eval()\n"
   ]
  },
  {
   "cell_type": "code",
   "execution_count": null,
   "id": "bb13ec47",
   "metadata": {
    "is_executing": true
   },
   "outputs": [],
   "source": [
    "result = model(train_dataset[0][0].unsqueeze(0))\n",
    "\n",
    "print(result.argmax(1)[0,:,:].shape)\n",
    "\n",
    "#plt.imshow(train_dataset[0][0].to(dtype=torch.int32).permute(1,2,0), cmap='gray')\n",
    "plt.imshow(result.argmax(1)[0,:,:], cmap='gray')\n"
   ]
  },
  {
   "cell_type": "code",
   "execution_count": null,
   "id": "506609b4",
   "metadata": {
    "is_executing": true
   },
   "outputs": [],
   "source": [
    "result = result.squeeze()"
   ]
  },
  {
   "cell_type": "code",
   "execution_count": null,
   "id": "c6bd1338",
   "metadata": {
    "is_executing": true
   },
   "outputs": [],
   "source": [
    "plt.imshow(train_dataset[0][1].squeeze())"
   ]
  },
  {
   "cell_type": "code",
   "execution_count": null,
   "id": "b309d8bb",
   "metadata": {
    "is_executing": true
   },
   "outputs": [],
   "source": []
  }
 ],
 "metadata": {
  "kernelspec": {
   "display_name": "Python 3 (ipykernel)",
   "language": "python",
   "name": "python3"
  },
  "language_info": {
   "codemirror_mode": {
    "name": "ipython",
    "version": 3
   },
   "file_extension": ".py",
   "mimetype": "text/x-python",
   "name": "python",
   "nbconvert_exporter": "python",
   "pygments_lexer": "ipython3",
   "version": "3.11.3"
  }
 },
 "nbformat": 4,
 "nbformat_minor": 5
}
